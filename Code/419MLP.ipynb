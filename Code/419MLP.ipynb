{
  "nbformat": 4,
  "nbformat_minor": 0,
  "metadata": {
    "colab": {
      "name": "419MLP.ipynb",
      "provenance": []
    },
    "kernelspec": {
      "name": "python3",
      "display_name": "Python 3"
    }
  },
  "cells": [
    {
      "cell_type": "markdown",
      "metadata": {
        "id": "Cm-N-Bmu0IF0",
        "colab_type": "text"
      },
      "source": [
        "# Import libraries\n"
      ]
    },
    {
      "cell_type": "code",
      "metadata": {
        "id": "XPrvCVqUulV7",
        "colab_type": "code",
        "colab": {}
      },
      "source": [
        "import torch\n",
        "import torch.nn as nn\n",
        "import numpy as np\n",
        "import pandas as pd\n",
        "import matplotlib.pyplot as plt"
      ],
      "execution_count": 0,
      "outputs": []
    },
    {
      "cell_type": "markdown",
      "metadata": {
        "id": "-QMMNiTD0Y1Q",
        "colab_type": "text"
      },
      "source": [
        "# Dataset"
      ]
    },
    {
      "cell_type": "markdown",
      "metadata": {
        "id": "Sne7K4FM2ID-",
        "colab_type": "text"
      },
      "source": [
        "## Download dataset"
      ]
    },
    {
      "cell_type": "code",
      "metadata": {
        "id": "TPrNwguC2GTs",
        "colab_type": "code",
        "outputId": "c1116977-16cd-4717-ab72-7fc1f0f3d6a1",
        "colab": {
          "base_uri": "https://localhost:8080/",
          "height": 343
        }
      },
      "source": [
        "!wget --output-document=Apple\\ Financial\\ Report.csv \"https://drive.google.com/uc?export=download&id=1m0fbb8VjaCU1Ye9N_hs85z7HWNk0GA9s\""
      ],
      "execution_count": 0,
      "outputs": [
        {
          "output_type": "stream",
          "text": [
            "--2020-04-19 09:05:30--  https://drive.google.com/uc?export=download&id=1m0fbb8VjaCU1Ye9N_hs85z7HWNk0GA9s\n",
            "Resolving drive.google.com (drive.google.com)... 172.217.212.101, 172.217.212.113, 172.217.212.139, ...\n",
            "Connecting to drive.google.com (drive.google.com)|172.217.212.101|:443... connected.\n",
            "HTTP request sent, awaiting response... 302 Moved Temporarily\n",
            "Location: https://doc-0k-9c-docs.googleusercontent.com/docs/securesc/ha0ro937gcuc7l7deffksulhg5h7mbp1/ugoro3qtkkbsodv4j8bdpckogl2tqpcs/1587287100000/08674965411100473451/*/1m0fbb8VjaCU1Ye9N_hs85z7HWNk0GA9s?e=download [following]\n",
            "Warning: wildcards not supported in HTTP.\n",
            "--2020-04-19 09:05:31--  https://doc-0k-9c-docs.googleusercontent.com/docs/securesc/ha0ro937gcuc7l7deffksulhg5h7mbp1/ugoro3qtkkbsodv4j8bdpckogl2tqpcs/1587287100000/08674965411100473451/*/1m0fbb8VjaCU1Ye9N_hs85z7HWNk0GA9s?e=download\n",
            "Resolving doc-0k-9c-docs.googleusercontent.com (doc-0k-9c-docs.googleusercontent.com)... 209.85.234.132, 2607:f8b0:4001:c17::84\n",
            "Connecting to doc-0k-9c-docs.googleusercontent.com (doc-0k-9c-docs.googleusercontent.com)|209.85.234.132|:443... connected.\n",
            "HTTP request sent, awaiting response... 200 OK\n",
            "Length: 4316 (4.2K) [text/csv]\n",
            "Saving to: ‘Apple Financial Report.csv’\n",
            "\n",
            "Apple Financial Rep 100%[===================>]   4.21K  --.-KB/s    in 0s      \n",
            "\n",
            "2020-04-19 09:05:31 (75.4 MB/s) - ‘Apple Financial Report.csv’ saved [4316/4316]\n",
            "\n"
          ],
          "name": "stdout"
        }
      ]
    },
    {
      "cell_type": "markdown",
      "metadata": {
        "id": "w5uorL4b1F2U",
        "colab_type": "text"
      },
      "source": [
        "## Load Dataset"
      ]
    },
    {
      "cell_type": "code",
      "metadata": {
        "id": "it71t3XW0Tfr",
        "colab_type": "code",
        "colab": {}
      },
      "source": [
        "def load_unicef_data():\n",
        "    \n",
        "    fname = 'Apple Financial Report.csv'\n",
        "\n",
        "    # Uses pandas to help with string-NaN-numeric data.\n",
        "    data = pd.read_csv(fname, na_values='_', encoding='latin1')\n",
        "    # Strip countries title from feature names.\n",
        "    features = data.axes[1][1:]\n",
        "    # Separate country names from feature values.\n",
        "    quarters = data.values[:,0]\n",
        "    values = data.values[:,1:]\n",
        "    # Convert to numpy matrix for real.\n",
        "    values = np.asmatrix(values,dtype='float32')\n",
        "\n",
        "    # Modify NaN values (missing values).\n",
        "    mean_vals = np.nanmean(values, axis=0)\n",
        "    inds = np.where(np.isnan(values))\n",
        "    values[inds] = np.take(mean_vals, inds[1])\n",
        "    return (quarters, features, values)"
      ],
      "execution_count": 0,
      "outputs": []
    },
    {
      "cell_type": "code",
      "metadata": {
        "id": "f_qczrIb-1Te",
        "colab_type": "code",
        "colab": {}
      },
      "source": [
        "(quarters, features, values) = load_unicef_data()"
      ],
      "execution_count": 0,
      "outputs": []
    },
    {
      "cell_type": "code",
      "metadata": {
        "id": "-8BT50N9BB7H",
        "colab_type": "code",
        "outputId": "a7d13fa9-f658-41fc-a966-a854175f7c09",
        "colab": {
          "base_uri": "https://localhost:8080/",
          "height": 197
        }
      },
      "source": [
        "print(quarters)"
      ],
      "execution_count": 0,
      "outputs": [
        {
          "output_type": "stream",
          "text": [
            "['2-Q 2005' '3-Q 2005' '4-Q 2005' '1-Q 2006' '2-Q 2006' '3-Q 2006'\n",
            " '4-Q 2006' '1-Q 2007' '2-Q 2007' '3-Q 2007' '4-Q 2007' '1-Q 2008'\n",
            " '2-Q 2008' '3-Q 2008' '4-Q 2008' '1-Q 2009' '2-Q 2009' '3-Q 2009'\n",
            " '4-Q 2009' '1-Q 2010' '2-Q 2010' '3-Q 2010' '4-Q 2010' '1-Q 2011'\n",
            " '2-Q 2011' '3-Q 2011' '4-Q 2011' '1-Q 2012' '2-Q 2012' '3-Q 2012'\n",
            " '4-Q 2012' '1-Q 2013' '2-Q 2013' '3-Q 2013' '4-Q 2013' '1-Q 2014'\n",
            " '2-Q 2014' '3-Q 2014' '4-Q 2014' '1-Q 2015' '2-Q 2015' '3-Q 2015'\n",
            " '4-Q 2015' '1-Q 2016' '2-Q 2016' '3-Q 2016' '4-Q 2016' '1-Q 2017'\n",
            " '2-Q 2017' '3-Q 2017' '4-Q 2017' '1-Q 2018' '2-Q 2018' '3-Q 2018'\n",
            " '4-Q 2018' '1-Q 2019' '2-Q 2019' '3-Q 2019' '4-Q 2019' '1-Q 2020']\n"
          ],
          "name": "stdout"
        }
      ]
    },
    {
      "cell_type": "code",
      "metadata": {
        "id": "_qQDsMB0BFZa",
        "colab_type": "code",
        "outputId": "0df455fd-dcba-47b5-f1a0-e805210bfe88",
        "colab": {
          "base_uri": "https://localhost:8080/",
          "height": 168
        }
      },
      "source": [
        "print(features)"
      ],
      "execution_count": 0,
      "outputs": [
        {
          "output_type": "stream",
          "text": [
            "Index(['Net Income', 'Net Sales /Revenue', 'Cost of Sales',\n",
            "       'Operating Expenses', 'Operating Income', 'Net Sales By iPhone',\n",
            "       'Net Sales By iPad', 'Net Sales By Mac', 'Net Sales By Service',\n",
            "       'Net Sales By Wearables, Home and Accessories \\n',\n",
            "       'If new product comes out (iPhone)', 'If new product comes out (iPad)',\n",
            "       'If new product comes out (Mac)',\n",
            "       'If new product comes out (Wearables, Home and Accessories)',\n",
            "       'New Revolutional technique'],\n",
            "      dtype='object')\n"
          ],
          "name": "stdout"
        }
      ]
    },
    {
      "cell_type": "code",
      "metadata": {
        "id": "rjBYrxaYBJE7",
        "colab_type": "code",
        "outputId": "d942b83c-c6f9-47d4-ce4d-455f06b02b5c",
        "colab": {
          "base_uri": "https://localhost:8080/",
          "height": 1000
        }
      },
      "source": [
        "print(values)"
      ],
      "execution_count": 0,
      "outputs": [
        {
          "output_type": "stream",
          "text": [
            "[[2.9000000e+02 3.2430000e+03 2.2750000e+03 2.8410000e+03 4.0200000e+02\n",
            "  3.3526699e+04 6.0049331e+03 6.0915000e+03 6.9332002e+03 3.3701379e+03\n",
            "  0.0000000e+00 0.0000000e+00 1.0000000e+00 1.0000000e+00 0.0000000e+00]\n",
            " [3.1900000e+02 3.5200000e+03 2.4760000e+03 3.0940000e+03 4.2600000e+02\n",
            "  3.3526699e+04 6.0049331e+03 6.0915000e+03 6.9332002e+03 3.3701379e+03\n",
            "  0.0000000e+00 0.0000000e+00 0.0000000e+00 0.0000000e+00 0.0000000e+00]\n",
            " [4.2400000e+02 3.6780000e+03 2.6440000e+03 3.2660000e+03 4.1200000e+02\n",
            "  3.3526699e+04 6.0049331e+03 6.0915000e+03 6.9332002e+03 3.3701379e+03\n",
            "  0.0000000e+00 0.0000000e+00 0.0000000e+00 1.0000000e+00 0.0000000e+00]\n",
            " [5.6500000e+02 5.7490000e+03 4.1850000e+03 4.9990000e+03 7.5000000e+02\n",
            "  3.3526699e+04 6.0049331e+03 6.0915000e+03 6.9332002e+03 3.3701379e+03\n",
            "  0.0000000e+00 0.0000000e+00 0.0000000e+00 1.0000000e+00 0.0000000e+00]\n",
            " [4.1000000e+02 4.3590000e+03 3.0620000e+03 3.8300000e+03 5.2900000e+02\n",
            "  3.3526699e+04 6.0049331e+03 6.0915000e+03 6.9332002e+03 3.3701379e+03\n",
            "  0.0000000e+00 0.0000000e+00 1.0000000e+00 1.0000000e+00 0.0000000e+00]\n",
            " [4.7200000e+02 4.3700000e+03 3.0450000e+03 3.8040000e+03 5.6600000e+02\n",
            "  3.3526699e+04 6.0049331e+03 6.0915000e+03 6.9332002e+03 3.3701379e+03\n",
            "  0.0000000e+00 0.0000000e+00 1.0000000e+00 0.0000000e+00 0.0000000e+00]\n",
            " [5.4200000e+02 4.8370000e+03 3.4250000e+03 4.2290000e+03 6.0800000e+02\n",
            "  3.3526699e+04 6.0049331e+03 6.0915000e+03 6.9332002e+03 3.3701379e+03\n",
            "  0.0000000e+00 0.0000000e+00 1.0000000e+00 1.0000000e+00 0.0000000e+00]\n",
            " [1.0040000e+03 7.1150000e+03 4.8950000e+03 5.7930000e+03 1.3220000e+03\n",
            "  3.3526699e+04 6.0049331e+03 6.0915000e+03 6.9332002e+03 3.3701379e+03\n",
            "  0.0000000e+00 0.0000000e+00 0.0000000e+00 0.0000000e+00 0.0000000e+00]\n",
            " [7.7000000e+02 5.2640000e+03 3.4150000e+03 4.2780000e+03 9.8600000e+02\n",
            "  3.3526699e+04 6.0049331e+03 6.0915000e+03 6.9332002e+03 3.3701379e+03\n",
            "  0.0000000e+00 0.0000000e+00 0.0000000e+00 1.0000000e+00 0.0000000e+00]\n",
            " [8.1800000e+02 5.4100000e+03 3.4150000e+03 4.3690000e+03 1.0410000e+03\n",
            "  3.3526699e+04 6.0049331e+03 6.0915000e+03 6.9332002e+03 3.3701379e+03\n",
            "  1.0000000e+00 0.0000000e+00 0.0000000e+00 1.0000000e+00 1.0000000e+00]\n",
            " [9.0300000e+02 6.7890000e+03 4.7010000e+03 5.7310000e+03 1.0580000e+03\n",
            "  3.3526699e+04 6.0049331e+03 6.0915000e+03 6.9332002e+03 3.3701379e+03\n",
            "  0.0000000e+00 0.0000000e+00 1.0000000e+00 1.0000000e+00 0.0000000e+00]\n",
            " [1.5810000e+03 9.6080000e+03 6.2760000e+03 7.4820000e+03 2.1260000e+03\n",
            "  3.3526699e+04 6.0049331e+03 6.0915000e+03 6.9332002e+03 3.3701379e+03\n",
            "  0.0000000e+00 0.0000000e+00 0.0000000e+00 0.0000000e+00 0.0000000e+00]\n",
            " [1.0450000e+03 7.5120000e+03 5.0380000e+03 6.1970000e+03 1.3150000e+03\n",
            "  3.3526699e+04 6.0049331e+03 6.0915000e+03 6.9332002e+03 3.3701379e+03\n",
            "  1.0000000e+00 0.0000000e+00 1.0000000e+00 1.0000000e+00 0.0000000e+00]\n",
            " [1.0720000e+03 7.4640000e+03 4.8640000e+03 6.0720000e+03 1.3920000e+03\n",
            "  3.3526699e+04 6.0049331e+03 6.0915000e+03 6.9332002e+03 3.3701379e+03\n",
            "  0.0000000e+00 0.0000000e+00 1.0000000e+00 0.0000000e+00 0.0000000e+00]\n",
            " [2.4210000e+03 1.2907000e+04 8.1160000e+03 9.4130000e+03 3.4940000e+03\n",
            "  3.3526699e+04 6.0049331e+03 6.0915000e+03 6.9332002e+03 3.3701379e+03\n",
            "  1.0000000e+00 0.0000000e+00 0.0000000e+00 1.0000000e+00 0.0000000e+00]\n",
            " [2.2550000e+03 1.1880000e+04 7.3730000e+03 8.7790000e+03 3.1010000e+03\n",
            "  3.3526699e+04 6.0049331e+03 6.0915000e+03 6.9332002e+03 3.3701379e+03\n",
            "  0.0000000e+00 0.0000000e+00 1.0000000e+00 0.0000000e+00 0.0000000e+00]\n",
            " [1.6200000e+03 9.0840000e+03 5.4570000e+03 6.7610000e+03 2.3230000e+03\n",
            "  3.3526699e+04 6.0049331e+03 6.0915000e+03 6.9332002e+03 3.3701379e+03\n",
            "  0.0000000e+00 0.0000000e+00 1.0000000e+00 1.0000000e+00 0.0000000e+00]\n",
            " [1.8280000e+03 9.7340000e+03 5.7510000e+03 7.1020000e+03 2.6320000e+03\n",
            "  3.3526699e+04 6.0049331e+03 6.0915000e+03 6.9332002e+03 3.3701379e+03\n",
            "  0.0000000e+00 0.0000000e+00 1.0000000e+00 0.0000000e+00 0.0000000e+00]\n",
            " [2.5320000e+03 1.2207000e+04 7.1020000e+03 8.5230000e+03 3.6840000e+03\n",
            "  3.3526699e+04 6.0049331e+03 6.0915000e+03 6.9332002e+03 3.3701379e+03\n",
            "  1.0000000e+00 0.0000000e+00 0.0000000e+00 1.0000000e+00 0.0000000e+00]\n",
            " [3.3780000e+03 1.5683000e+04 9.2720000e+03 1.0958000e+04 4.7250000e+03\n",
            "  3.3526699e+04 6.0049331e+03 6.0915000e+03 6.9332002e+03 3.3701379e+03\n",
            "  0.0000000e+00 0.0000000e+00 1.0000000e+00 1.0000000e+00 0.0000000e+00]\n",
            " [3.0740000e+03 1.3499000e+04 7.8740000e+03 9.5200000e+03 3.9790000e+03\n",
            "  3.3526699e+04 6.0049331e+03 6.0915000e+03 6.9332002e+03 3.3701379e+03\n",
            "  0.0000000e+00 0.0000000e+00 0.0000000e+00 0.0000000e+00 0.0000000e+00]\n",
            " [3.2530000e+03 1.5700000e+04 9.5640000e+03 1.1466000e+04 4.2340000e+03\n",
            "  3.3526699e+04 6.0049331e+03 6.0915000e+03 6.9332002e+03 3.3701379e+03\n",
            "  0.0000000e+00 1.0000000e+00 1.0000000e+00 0.0000000e+00 1.0000000e+00]\n",
            " [4.3080000e+03 2.0343000e+04 1.2831000e+04 1.4896000e+04 5.4470000e+03\n",
            "  3.3526699e+04 6.0049331e+03 6.0915000e+03 6.9332002e+03 3.3701379e+03\n",
            "  1.0000000e+00 0.0000000e+00 1.0000000e+00 1.0000000e+00 0.0000000e+00]\n",
            " [6.0040000e+03 2.6741000e+04 1.6443000e+04 1.8914000e+04 7.8270000e+03\n",
            "  3.3526699e+04 6.0049331e+03 6.0915000e+03 6.9332002e+03 3.3701379e+03\n",
            "  0.0000000e+00 0.0000000e+00 1.0000000e+00 0.0000000e+00 0.0000000e+00]\n",
            " [5.9870000e+03 2.4667000e+04 1.4449000e+04 1.6793000e+04 7.8740000e+03\n",
            "  3.3526699e+04 6.0049331e+03 6.0915000e+03 6.9332002e+03 3.3701379e+03\n",
            "  1.0000000e+00 0.0000000e+00 1.0000000e+00 0.0000000e+00 0.0000000e+00]\n",
            " [7.3080000e+03 2.8571000e+04 1.6649000e+04 1.9192000e+04 9.3790000e+03\n",
            "  3.3526699e+04 6.0049331e+03 6.0915000e+03 6.9332002e+03 3.3701379e+03\n",
            "  0.0000000e+00 1.0000000e+00 1.0000000e+00 0.0000000e+00 0.0000000e+00]\n",
            " [6.6230000e+03 2.8270000e+04 1.6890000e+04 1.9560000e+04 8.7100000e+03\n",
            "  3.3526699e+04 6.0049331e+03 6.0915000e+03 6.9332002e+03 3.3701379e+03\n",
            "  0.0000000e+00 0.0000000e+00 1.0000000e+00 0.0000000e+00 0.0000000e+00]\n",
            " [1.3064000e+04 4.6333000e+04 2.5630000e+04 2.8993000e+04 1.7340000e+04\n",
            "  3.3526699e+04 6.0049331e+03 6.0915000e+03 6.9332002e+03 3.3701379e+03\n",
            "  1.0000000e+00 0.0000000e+00 1.0000000e+00 0.0000000e+00 0.0000000e+00]\n",
            " [1.1622000e+04 3.9186000e+04 2.0622000e+04 2.3802000e+04 1.5384000e+04\n",
            "  3.3526699e+04 6.0049331e+03 6.0915000e+03 6.9332002e+03 3.3701379e+03\n",
            "  0.0000000e+00 0.0000000e+00 0.0000000e+00 1.0000000e+00 0.0000000e+00]\n",
            " [8.8240000e+03 3.5023000e+04 2.0029000e+04 2.3450000e+04 1.1573000e+04\n",
            "  1.6245000e+04 9.1710000e+03 4.9330000e+03 8.9100000e+02 3.3701379e+03\n",
            "  0.0000000e+00 1.0000000e+00 1.0000000e+00 0.0000000e+00 0.0000000e+00]\n",
            " [8.2230000e+03 3.5966000e+04 2.1565000e+04 2.5022000e+04 1.0944000e+04\n",
            "  3.3526699e+04 6.0049331e+03 6.0915000e+03 6.9332002e+03 3.3701379e+03\n",
            "  0.0000000e+00 0.0000000e+00 0.0000000e+00 1.0000000e+00 0.0000000e+00]\n",
            " [1.3078000e+04 5.4512000e+04 3.3452000e+04 3.7302000e+04 1.7210000e+04\n",
            "  3.0660000e+04 1.0674000e+04 5.5190000e+03 3.6870000e+03 1.8290000e+03\n",
            "  1.0000000e+00 1.0000000e+00 1.0000000e+00 1.0000000e+00 0.0000000e+00]\n",
            " [9.5470000e+03 4.3603000e+04 2.7254000e+04 3.1045000e+04 1.2558000e+04\n",
            "  2.2955000e+04 8.7460000e+03 5.4470000e+03 4.1140000e+03 1.3790000e+03\n",
            "  0.0000000e+00 0.0000000e+00 1.0000000e+00 1.0000000e+00 0.0000000e+00]\n",
            " [6.9000000e+03 3.5323000e+04 2.2299000e+04 2.6122000e+04 9.2010000e+03\n",
            "  1.8154000e+04 6.3740000e+03 4.8930000e+03 3.9900000e+03 1.1790000e+03\n",
            "  0.0000000e+00 0.0000000e+00 1.0000000e+00 1.0000000e+00 0.0000000e+00]\n",
            " [7.5120000e+03 3.7472000e+04 2.3601000e+04 2.7422000e+04 1.0030000e+04\n",
            "  1.9510000e+04 6.1860000e+03 5.6240000e+03 4.2600000e+03 1.3190000e+03\n",
            "  0.0000000e+00 0.0000000e+00 1.0000000e+00 0.0000000e+00 0.0000000e+00]\n",
            " [1.3072000e+04 5.7594000e+04 3.5748000e+04 4.0131000e+04 1.7463000e+04\n",
            "  3.2498000e+04 1.1468000e+04 6.3950000e+03 4.3970000e+03 1.8630000e+03\n",
            "  1.0000000e+00 1.0000000e+00 1.0000000e+00 0.0000000e+00 0.0000000e+00]\n",
            " [1.0223000e+04 4.5646000e+04 2.7699000e+04 3.2053000e+04 1.3593000e+04\n",
            "  2.6064000e+04 7.6100000e+03 5.5190000e+03 4.5730000e+03 1.4190000e+03\n",
            "  1.0000000e+00 0.0000000e+00 0.0000000e+00 0.0000000e+00 0.0000000e+00]\n",
            " [7.7480000e+03 3.7432000e+04 2.2697000e+04 2.7150000e+04 1.0282000e+04\n",
            "  1.9751000e+04 5.8890000e+03 5.5400000e+03 4.4850000e+03 1.3250000e+03\n",
            "  0.0000000e+00 0.0000000e+00 1.0000000e+00 1.0000000e+00 0.0000000e+00]\n",
            " [8.4670000e+03 4.2123000e+04 2.6114000e+04 3.0958000e+04 1.1165000e+04\n",
            "  2.3678000e+04 5.3160000e+03 6.6250000e+03 4.6080000e+03 1.4860000e+03\n",
            "  0.0000000e+00 0.0000000e+00 1.0000000e+00 0.0000000e+00 0.0000000e+00]\n",
            " [1.8024000e+04 7.4599000e+04 4.4858000e+04 5.0353000e+04 2.4246000e+04\n",
            "  5.1182000e+04 8.9850000e+03 6.9440000e+03 4.7990000e+03 2.6890000e+03\n",
            "  1.0000000e+00 1.0000000e+00 1.0000000e+00 0.0000000e+00 1.0000000e+00]\n",
            " [1.3569000e+04 5.8010000e+04 3.4354000e+04 2.7150000e+04 1.8278000e+04\n",
            "  4.0282000e+04 5.4280000e+03 5.6150000e+03 4.9960000e+03 1.6890000e+03\n",
            "  0.0000000e+00 0.0000000e+00 1.0000000e+00 0.0000000e+00 0.0000000e+00]\n",
            " [1.0677000e+04 4.9605000e+04 2.9924000e+04 3.2053000e+04 1.4083000e+04\n",
            "  3.1368000e+04 4.5380000e+03 6.0300000e+03 5.0280000e+03 2.6410000e+03\n",
            "  0.0000000e+00 0.0000000e+00 1.0000000e+00 1.0000000e+00 1.0000000e+00]\n",
            " [1.1124000e+04 5.1501000e+04 3.0953000e+04 1.3847458e+04 1.4623000e+04\n",
            "  3.2209000e+04 4.2760000e+03 6.8820000e+03 5.0860000e+03 3.0480000e+03\n",
            "  0.0000000e+00 0.0000000e+00 0.0000000e+00 1.0000000e+00 1.0000000e+00]\n",
            " [1.8361000e+04 7.5872000e+04 4.5449000e+04 6.2520000e+03 2.4171000e+04\n",
            "  5.1635000e+04 7.0840000e+03 6.7460000e+03 6.0560000e+03 4.3510000e+03\n",
            "  1.0000000e+00 1.0000000e+00 1.0000000e+00 1.0000000e+00 1.0000000e+00]\n",
            " [1.0516000e+04 5.0557000e+04 3.0636000e+04 5.9340000e+03 1.3987000e+04\n",
            "  3.2857000e+04 4.4130000e+03 5.1070000e+03 5.9910000e+03 2.1890000e+03\n",
            "  0.0000000e+00 0.0000000e+00 0.0000000e+00 0.0000000e+00 0.0000000e+00]\n",
            " [7.7960000e+03 4.2358000e+04 2.6252000e+04 6.0010000e+03 1.0105000e+04\n",
            "  2.4048000e+04 4.8760000e+03 5.2390000e+03 5.9760000e+03 2.2190000e+03\n",
            "  1.0000000e+00 1.0000000e+00 1.0000000e+00 0.0000000e+00 0.0000000e+00]\n",
            " [9.0140000e+03 4.6852000e+04 2.9039000e+04 6.0520000e+03 1.1761000e+04\n",
            "  2.8160000e+04 4.2550000e+03 5.7390000e+03 6.3250000e+03 2.3730000e+03\n",
            "  0.0000000e+00 1.0000000e+00 0.0000000e+00 1.0000000e+00 0.0000000e+00]\n",
            " [1.7891000e+04 7.8315000e+04 4.8175000e+04 6.8170000e+03 2.3359000e+04\n",
            "  5.4378000e+04 5.5330000e+03 7.2440000e+03 7.1720000e+03 4.0240000e+03\n",
            "  1.0000000e+00 0.0000000e+00 1.0000000e+00 1.0000000e+00 0.0000000e+00]\n",
            " [1.1029000e+04 5.2896000e+04 3.2305000e+04 6.4940000e+03 1.4097000e+04\n",
            "  3.3249000e+04 3.8890000e+03 5.8440000e+03 7.0410000e+03 2.8730000e+03\n",
            "  1.0000000e+00 0.0000000e+00 0.0000000e+00 0.0000000e+00 0.0000000e+00]\n",
            " [8.7170000e+03 4.5408000e+04 2.7920000e+04 6.7200000e+03 1.0768000e+04\n",
            "  2.4846000e+04 4.9690000e+03 5.5920000e+03 7.2660000e+03 2.7350000e+03\n",
            "  0.0000000e+00 1.0000000e+00 1.0000000e+00 1.0000000e+00 0.0000000e+00]\n",
            " [1.0714000e+04 5.2579000e+04 3.2648000e+04 6.8110000e+03 1.3120000e+04\n",
            "  2.8846000e+04 4.8310000e+03 7.1700000e+03 8.5010000e+03 3.2310000e+03\n",
            "  1.0000000e+00 0.0000000e+00 0.0000000e+00 0.0000000e+00 0.0000000e+00]\n",
            " [2.0065000e+04 8.8293000e+04 5.4381000e+04 7.6380000e+03 2.6274000e+04\n",
            "  6.1104000e+04 5.7550000e+03 6.8240000e+03 9.1290000e+03 5.4810000e+03\n",
            "  1.0000000e+00 0.0000000e+00 1.0000000e+00 1.0000000e+00 1.0000000e+00]\n",
            " [1.3822000e+04 6.1137000e+04 3.7715000e+04 7.5280000e+03 1.5894000e+04\n",
            "  3.7559000e+04 4.0080000e+03 5.7760000e+03 9.8500000e+03 3.9440000e+03\n",
            "  0.0000000e+00 0.0000000e+00 0.0000000e+00 1.0000000e+00 0.0000000e+00]\n",
            " [1.1519000e+04 5.3265000e+04 3.2844000e+04 7.8090000e+03 1.2612000e+04\n",
            "  2.9470000e+04 4.6340000e+03 5.2580000e+03 1.0170000e+04 3.7330000e+03\n",
            "  0.0000000e+00 1.0000000e+00 0.0000000e+00 0.0000000e+00 0.0000000e+00]\n",
            " [1.4125000e+04 6.2900000e+04 3.8816000e+04 7.9660000e+03 1.6118000e+04\n",
            "  3.6755000e+04 3.9830000e+03 7.3400000e+03 1.0599000e+04 4.2230000e+03\n",
            "  1.0000000e+00 0.0000000e+00 1.0000000e+00 1.0000000e+00 0.0000000e+00]\n",
            " [1.9965000e+04 8.4310000e+04 5.2279000e+04 8.6850000e+03 2.3346000e+04\n",
            "  5.1982000e+04 6.7290000e+03 7.4160000e+03 1.0875000e+04 7.3080000e+03\n",
            "  1.0000000e+00 1.0000000e+00 1.0000000e+00 1.0000000e+00 1.0000000e+00]\n",
            " [1.1561000e+04 5.8015000e+04 3.6194000e+04 8.4060000e+03 1.3415000e+04\n",
            "  3.1051000e+04 4.8720000e+03 5.5130000e+03 1.1450000e+04 5.1290000e+03\n",
            "  0.0000000e+00 0.0000000e+00 1.0000000e+00 1.0000000e+00 1.0000000e+00]\n",
            " [1.0044000e+04 5.3809000e+04 3.3582000e+04 8.6830000e+03 1.1544000e+04\n",
            "  2.5986000e+04 5.0230000e+03 5.8200000e+03 1.1455000e+04 5.5250000e+03\n",
            "  0.0000000e+00 1.0000000e+00 1.0000000e+00 1.0000000e+00 0.0000000e+00]\n",
            " [1.3686000e+04 6.4040000e+04 3.9727000e+04 8.6880000e+03 1.5625000e+04\n",
            "  3.3362000e+04 4.6560000e+03 6.9910000e+03 1.2511000e+04 6.5200000e+03\n",
            "  0.0000000e+00 0.0000000e+00 1.0000000e+00 1.0000000e+00 1.0000000e+00]\n",
            " [2.2236000e+04 9.1819000e+04 5.6602000e+04 9.6480000e+03 2.5569000e+04\n",
            "  5.5957000e+04 5.9770000e+03 7.1600000e+03 1.2715000e+04 1.0010000e+04\n",
            "  1.0000000e+00 1.0000000e+00 1.0000000e+00 1.0000000e+00 1.0000000e+00]]\n"
          ],
          "name": "stdout"
        }
      ]
    },
    {
      "cell_type": "markdown",
      "metadata": {
        "id": "6th6QEz6J2XQ",
        "colab_type": "text"
      },
      "source": [
        "## Seperate dataset to train set and test set"
      ]
    },
    {
      "cell_type": "code",
      "metadata": {
        "id": "9Fl4mPaKKwWf",
        "colab_type": "code",
        "colab": {}
      },
      "source": [
        "targets = values[:,0]\n",
        "x = values[:,2:]\n",
        "\n",
        "N_TRAIN = 50\n",
        "q_train = quarters[0:N_TRAIN]\n",
        "q_test = quarters[N_TRAIN:]\n",
        "x_train = torch.from_numpy(x[0:N_TRAIN,:])\n",
        "x_test = torch.from_numpy(x[N_TRAIN:,:])\n",
        "t_train = torch.from_numpy(targets[0:N_TRAIN])\n",
        "t_test = targets[N_TRAIN:]"
      ],
      "execution_count": 0,
      "outputs": []
    },
    {
      "cell_type": "markdown",
      "metadata": {
        "id": "hgPRqlgPHvqZ",
        "colab_type": "text"
      },
      "source": [
        "# Create MLP model"
      ]
    },
    {
      "cell_type": "code",
      "metadata": {
        "id": "A17-PBv1Alxr",
        "colab_type": "code",
        "colab": {}
      },
      "source": [
        "class Model(torch.nn.Module):\n",
        "    def __init__(self, D_in, H, D_out):\n",
        "        super().__init__()\n",
        "        self.l1 = nn.Linear(D_in, H)\n",
        "        self.relu = nn.ReLU()\n",
        "        self.l2=nn.Linear(H, D_out)\n",
        "\n",
        "    def forward(self, X):\n",
        "        return self.l2(self.relu(self.l1(X)))"
      ],
      "execution_count": 0,
      "outputs": []
    },
    {
      "cell_type": "code",
      "metadata": {
        "id": "mSXuwyahHO3H",
        "colab_type": "code",
        "colab": {}
      },
      "source": [
        "D_in = 13\n",
        "H = 10\n",
        "D_out = 1\n",
        "\n",
        "model = Model(D_in, H, D_out)\n"
      ],
      "execution_count": 0,
      "outputs": []
    },
    {
      "cell_type": "code",
      "metadata": {
        "id": "CLEW9Rt6HTnD",
        "colab_type": "code",
        "outputId": "11108b4e-0821-45e9-f84a-41a845f8c544",
        "colab": {
          "base_uri": "https://localhost:8080/",
          "height": 107
        }
      },
      "source": [
        "print(model)"
      ],
      "execution_count": 0,
      "outputs": [
        {
          "output_type": "stream",
          "text": [
            "Model(\n",
            "  (l1): Linear(in_features=13, out_features=10, bias=True)\n",
            "  (relu): ReLU()\n",
            "  (l2): Linear(in_features=10, out_features=1, bias=True)\n",
            ")\n"
          ],
          "name": "stdout"
        }
      ]
    },
    {
      "cell_type": "markdown",
      "metadata": {
        "id": "mLzhqlzmGFSH",
        "colab_type": "text"
      },
      "source": [
        "# Train the model"
      ]
    },
    {
      "cell_type": "code",
      "metadata": {
        "id": "IXkQSFmTAy5G",
        "colab_type": "code",
        "outputId": "3bdf03d5-7835-4326-9111-82fbe2690e14",
        "colab": {
          "base_uri": "https://localhost:8080/",
          "height": 737
        }
      },
      "source": [
        "\n",
        "\n",
        "loss_fn = torch.nn.MSELoss()\n",
        "\n",
        "# Use the optim package to define an Optimizer that will update the weights of\n",
        "# the model for us. Here we will use Adam; the optim package contains many other\n",
        "# optimization algoriths. The first argument to the Adam constructor tells the\n",
        "# optimizer which Tensors it should update.\n",
        "learning_rate = 0.0005\n",
        "optimizer = torch.optim.Adam(model.parameters(), lr=learning_rate)\n",
        "for t in range(5000):\n",
        "    # Forward pass: compute predicted y by passing x to the model.\n",
        "    y_pred = model(x_train)\n",
        "\n",
        "    # Compute and print loss.\n",
        "    loss = loss_fn(y_pred, t_train)\n",
        "    if (t+1)%100 == 0:\n",
        "      print(t, loss.item())\n",
        "    if loss.item() <= 41000:\n",
        "      print(t, loss.item())\n",
        "      break\n",
        "\n",
        "    # Before the backward pass, use the optimizer object to zero all of the\n",
        "    # gradients for the variables it will update (which are the learnable\n",
        "    # weights of the model). This is because by default, gradients are\n",
        "    # accumulated in buffers( i.e, not overwritten) whenever .backward()\n",
        "    # is called. Checkout docs of torch.autograd.backward for more details.\n",
        "    optimizer.zero_grad()\n",
        "\n",
        "    # Backward pass: compute gradient of the loss with respect to model\n",
        "    # parameters\n",
        "    loss.backward()\n",
        "\n",
        "    # Calling the step function on an Optimizer makes an update to its\n",
        "    # parameters\n",
        "    optimizer.step()"
      ],
      "execution_count": 0,
      "outputs": [
        {
          "output_type": "stream",
          "text": [
            "99 41195124.0\n",
            "199 15796829.0\n",
            "299 10462835.0\n",
            "399 6962645.0\n",
            "499 4496867.5\n",
            "599 2830086.75\n",
            "699 1723906.25\n",
            "799 1036571.75\n",
            "899 642854.1875\n",
            "999 438575.71875\n",
            "1099 340738.90625\n",
            "1199 293043.78125\n",
            "1299 267148.03125\n",
            "1399 249764.9375\n",
            "1499 235815.015625\n",
            "1599 223489.65625\n",
            "1699 211647.578125\n",
            "1799 200074.09375\n",
            "1899 188744.359375\n",
            "1999 177683.90625\n",
            "2099 166926.59375\n",
            "2199 156506.59375\n",
            "2299 146454.265625\n",
            "2399 136796.703125\n",
            "2499 127556.5390625\n",
            "2599 118752.1171875\n",
            "2699 110396.703125\n",
            "2799 102499.1875\n",
            "2899 95063.46875\n",
            "2999 88088.4375\n",
            "3099 81569.1875\n",
            "3199 75496.4375\n",
            "3299 69856.515625\n",
            "3399 64633.1640625\n",
            "3499 59807.2734375\n",
            "3599 55357.62890625\n",
            "3699 51262.19921875\n",
            "3799 47497.9453125\n",
            "3899 44042.17578125\n",
            "3995 40993.90234375\n"
          ],
          "name": "stdout"
        }
      ]
    },
    {
      "cell_type": "code",
      "metadata": {
        "id": "yWMQ-n6CBh5y",
        "colab_type": "code",
        "outputId": "2d48ec29-f4dc-4f2c-dba4-817cad9c556b",
        "colab": {
          "base_uri": "https://localhost:8080/",
          "height": 197
        }
      },
      "source": [
        "y = model(x_test)\n",
        "y_train = model(x_train)\n",
        "print(y)"
      ],
      "execution_count": 0,
      "outputs": [
        {
          "output_type": "stream",
          "text": [
            "tensor([[10289.1973],\n",
            "        [20113.2285],\n",
            "        [12265.7598],\n",
            "        [ 9890.8047],\n",
            "        [12501.7656],\n",
            "        [18532.7715],\n",
            "        [10829.7559],\n",
            "        [ 9651.2412],\n",
            "        [12622.9014],\n",
            "        [20581.9922]], grad_fn=<AddmmBackward>)\n"
          ],
          "name": "stdout"
        }
      ]
    },
    {
      "cell_type": "code",
      "metadata": {
        "id": "Puqbi9H7UhOy",
        "colab_type": "code",
        "outputId": "aeaccf86-13f3-44bb-ad51-764368b0b659",
        "colab": {
          "base_uri": "https://localhost:8080/",
          "height": 318
        }
      },
      "source": [
        "plt.title('Train the model')\n",
        "plt.plot(q_train, y_train.detach().numpy())\n",
        "plt.plot(q_train, t_train)\n",
        "plt.legend(['Predicted', 'Actual'])\n",
        "plt.xticks(rotation=90)\n",
        "ax = plt.gca()\n",
        "for label in ax.get_xaxis().get_ticklabels()[::2]:\n",
        "    label.set_visible(False)"
      ],
      "execution_count": 0,
      "outputs": [
        {
          "output_type": "display_data",
          "data": {
            "image/png": "[encoded data removed]",
            "text/plain": [
              "<Figure size 432x288 with 1 Axes>"
            ]
          },
          "metadata": {
            "tags": [],
            "needs_background": "light"
          }
        }
      ]
    },
    {
      "cell_type": "code",
      "metadata": {
        "id": "kWjfxgj2Cx4O",
        "colab_type": "code",
        "outputId": "20483980-1d0e-48b2-f39e-840a2ed1b769",
        "colab": {
          "base_uri": "https://localhost:8080/",
          "height": 336
        }
      },
      "source": [
        "plt.title('Prediction')\n",
        "plt.plot(q_test, y.detach().numpy())\n",
        "plt.plot(q_test, t_test)\n",
        "plt.legend(['Predicted', 'Actual'])\n",
        "plt.xticks(rotation=90)"
      ],
      "execution_count": 0,
      "outputs": [
        {
          "output_type": "execute_result",
          "data": {
            "text/plain": [
              "([0, 1, 2, 3, 4, 5, 6, 7, 8, 9], <a list of 10 Text major ticklabel objects>)"
            ]
          },
          "metadata": {
            "tags": []
          },
          "execution_count": 54
        },
        {
          "output_type": "display_data",
          "data": {
            "image/png": "[encoded data removed]",
            "text/plain": [
              "<Figure size 432x288 with 1 Axes>"
            ]
          },
          "metadata": {
            "tags": [],
            "needs_background": "light"
          }
        }
      ]
    },
    {
      "cell_type": "code",
      "metadata": {
        "id": "3qj_Ip8hbBt_",
        "colab_type": "code",
        "outputId": "2d4114c7-cb87-4a53-81eb-603d578c3dab",
        "colab": {
          "base_uri": "https://localhost:8080/",
          "height": 318
        }
      },
      "source": [
        "plt.title('Profits vs quarters for Apple co.')\n",
        "plt.plot(quarters, targets)\n",
        "plt.xticks(rotation=90)\n",
        "ax = plt.gca()\n",
        "for label in ax.get_xaxis().get_ticklabels()[::2]:\n",
        "    label.set_visible(False)"
      ],
      "execution_count": 0,
      "outputs": [
        {
          "output_type": "display_data",
          "data": {
            "image/png": "[encoded data removed]",
            "text/plain": [
              "<Figure size 432x288 with 1 Axes>"
            ]
          },
          "metadata": {
            "tags": [],
            "needs_background": "light"
          }
        }
      ]
    }
  ]
}